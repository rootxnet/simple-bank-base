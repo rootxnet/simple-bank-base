{
 "cells": [
  {
   "cell_type": "code",
   "execution_count": 8,
   "id": "3aeb47a6",
   "metadata": {},
   "outputs": [
    {
     "name": "stdout",
     "output_type": "stream",
     "text": [
      "6592.0000\n"
     ]
    }
   ],
   "source": [
    "from datetime import datetime\n",
    "from django.db.models import Sum\n",
    "from decimal import Decimal\n",
    "\n",
    "fa = FinancialAccount.objects.first()\n",
    "date_start = datetime.fromisoformat('2022-01-04T16:41:24+02:00')\n",
    "date_end = datetime.fromisoformat('2024-01-04T16:41:24+02:00')\n",
    "\n",
    "date_filters = {}\n",
    "if date_start:\n",
    "    date_filters[\"transaction_time__gte\"] = date_start\n",
    "if date_end:\n",
    "    date_filters[\"transaction_time__lte\"] = date_end\n",
    "            \n",
    "txs = fa.transactions.filter(**date_filters)\n",
    "\n",
    "\n",
    "txs.annotate(\n",
    "    calculated_balance= \\\n",
    "        Sum('amount', filter=Q(transaction_type='CREDIT')) -\n",
    "        Sum('amount', filter=Q(transaction_type='DEBIT'))\n",
    ")\n",
    "\n",
    "total = Decimal(0)\n",
    "for a in txs.values(\"currency_code\", \"transaction_type\").annotate(total=Sum(\"amount\")):\n",
    "    total += (-1 if a[\"transaction_type\"] == \"DEBIT\" else 1) * \\\n",
    "        Transaction.amount_to_USD(a[\"total\"], a[\"currency_code\"])\n",
    "    \n",
    "    \n",
    "print(total)\n",
    "    \n",
    "txs.values(\"currency_code\", \"transaction_type\").annotate(total=Sum(\"amount\"))\n",
    "\n",
    "# fa.recalculate_balance()\n",
    "fa.recalculate_balance()\n",
    "fa.save()"
   ]
  },
  {
   "cell_type": "code",
   "execution_count": null,
   "id": "9606d6f8",
   "metadata": {},
   "outputs": [],
   "source": []
  }
 ],
 "metadata": {
  "kernelspec": {
   "display_name": "Django Shell-Plus",
   "language": "python",
   "name": "django_extensions"
  },
  "language_info": {
   "codemirror_mode": {
    "name": "ipython",
    "version": 3
   },
   "file_extension": ".py",
   "mimetype": "text/x-python",
   "name": "python",
   "nbconvert_exporter": "python",
   "pygments_lexer": "ipython3",
   "version": "3.11.2"
  }
 },
 "nbformat": 4,
 "nbformat_minor": 5
}
